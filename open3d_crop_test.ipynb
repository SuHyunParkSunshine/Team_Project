{
 "cells": [
  {
   "cell_type": "code",
   "execution_count": 2,
   "id": "433a6eeb",
   "metadata": {},
   "outputs": [
    {
     "name": "stdout",
     "output_type": "stream",
     "text": [
      "Jupyter environment detected. Enabling Open3D WebVisualizer.\n",
      "[Open3D INFO] WebRTC GUI backend enabled.\n",
      "[Open3D INFO] WebRTCWindowSystem: HTTP handshake server disabled.\n"
     ]
    }
   ],
   "source": [
    "import numpy as np\n",
    "import open3d as o3d\n",
    "\n",
    "def main():\n",
    "    pts = np.random.randint(0, 100, (100, 3))\n",
    "\n",
    "    # whether to write in binary or text format\n",
    "    write_text = True\n",
    "\n",
    "    # use open3d\n",
    "    use_o3d(pts, write_text)\n",
    "\n",
    "\n",
    "def use_o3d(pts, write_text):\n",
    "    pcd = o3d.geometry.PointCloud()\n",
    "\n",
    "    # the method Vector3dVector() will convert numpy array of shape (n, 3) to Open3D format.\n",
    "    # see http://www.open3d.org/docs/release/python_api/open3d.utility.Vector3dVector.html#open3d.utility.Vector3dVector\n",
    "    pcd.points = o3d.utility.Vector3dVector(pts)\n",
    "\n",
    "    # http://www.open3d.org/docs/release/python_api/open3d.io.write_point_cloud.html#open3d.io.write_point_cloud\n",
    "    o3d.io.write_point_cloud(\"my_pts.ply\", pcd, write_ascii=write_text)\n",
    "\n",
    "    # read ply file\n",
    "    pcd = o3d.io.read_point_cloud('my_pts.ply')\n",
    "\n",
    "    # visualize\n",
    "    o3d.visualization.draw_geometries([pcd])"
   ]
  },
  {
   "cell_type": "code",
   "execution_count": 26,
   "id": "3549dd90",
   "metadata": {},
   "outputs": [],
   "source": [
    "main()"
   ]
  },
  {
   "cell_type": "code",
   "execution_count": 4,
   "id": "75b8ae12",
   "metadata": {},
   "outputs": [],
   "source": [
    "import copy\n",
    "# read ply file\n",
    "pcd = o3d.io.read_point_cloud('cropply/croppedtest2.ply')\n",
    "pcd2 = o3d.io.read_point_cloud(\"cropply/croppedtest1.ply\")\n",
    "pcd_s = copy.deepcopy(pcd2).translate((2, 0, 0))\n",
    "\n",
    "# visualize\n",
    "o3d.visualization.draw_geometries([pcd,pcd_s])"
   ]
  },
  {
   "cell_type": "code",
   "execution_count": 87,
   "id": "8e85e9ec",
   "metadata": {},
   "outputs": [
    {
     "name": "stdout",
     "output_type": "stream",
     "text": [
      "Format: PNG\n",
      "Mode: RGB\n",
      "Size: (640, 480)\n",
      "Pixel values of the first few pixels: [(38, 29, 34), (44, 33, 35), (54, 40, 40), (69, 59, 56), (82, 77, 71), (92, 94, 84), (98, 102, 92), (101, 105, 93), (101, 104, 89), (102, 104, 88)]\n"
     ]
    }
   ],
   "source": [
    "from PIL import Image\n",
    "\n",
    "# 이미지 열기\n",
    "image_path = 'testpage/results/acc2/5test_Color.png'  # 이미지 파일 경로를 수정하세요\n",
    "image = Image.open(image_path)\n",
    "\n",
    "# 이미지 속성 확인\n",
    "image_format = image.format\n",
    "image_mode = image.mode\n",
    "image_size = image.size\n",
    "\n",
    "print(f\"Format: {image_format}\")\n",
    "print(f\"Mode: {image_mode}\")\n",
    "print(f\"Size: {image_size}\")\n",
    "\n",
    "# 이미지 픽셀 값 확인 (RGB 이미지인 경우)\n",
    "if image_mode == 'RGB':\n",
    "    pixel_values = list(image.getdata())\n",
    "    print(f\"Pixel values of the first few pixels: {pixel_values[:10]}\")\n",
    "else:\n",
    "    print(\"Pixel extraction is not supported for this image mode.\")\n"
   ]
  },
  {
   "cell_type": "code",
   "execution_count": 2,
   "id": "43bfd0c4",
   "metadata": {},
   "outputs": [
    {
     "name": "stdout",
     "output_type": "stream",
     "text": [
      "[[ 1.000000e+00  0.000000e+00  0.000000e+00]\n",
      " [ 0.000000e+00  6.123234e-17 -1.000000e+00]\n",
      " [ 0.000000e+00  1.000000e+00  6.123234e-17]]\n"
     ]
    }
   ],
   "source": [
    "import numpy as np\n",
    "import math\n",
    "\n",
    "def yaw_pitch_roll_to_rotation_matrix(yaw, pitch, roll):\n",
    "    # 각도를 라디안으로 변환\n",
    "    yaw_rad = math.radians(yaw)\n",
    "    pitch_rad = math.radians(pitch)\n",
    "    roll_rad = math.radians(roll)\n",
    "\n",
    "    # Yaw, Pitch, Roll 회전 행렬 계산\n",
    "    yaw_matrix = np.array([\n",
    "        [math.cos(yaw_rad), -math.sin(yaw_rad), 0],\n",
    "        [math.sin(yaw_rad), math.cos(yaw_rad), 0],\n",
    "        [0, 0, 1]\n",
    "    ])\n",
    "\n",
    "    pitch_matrix = np.array([\n",
    "        [math.cos(pitch_rad), 0, math.sin(pitch_rad)],\n",
    "        [0, 1, 0],\n",
    "        [-math.sin(pitch_rad), 0, math.cos(pitch_rad)]\n",
    "    ])\n",
    "\n",
    "    roll_matrix = np.array([\n",
    "        [1, 0, 0],\n",
    "        [0, math.cos(roll_rad), -math.sin(roll_rad)],\n",
    "        [0, math.sin(roll_rad), math.cos(roll_rad)]\n",
    "    ])\n",
    "\n",
    "    # 회전 행렬을 순서대로 곱해서 최종 회전 행렬 생성\n",
    "    rotation_matrix = np.dot(np.dot(roll_matrix, pitch_matrix), yaw_matrix)\n",
    "    return rotation_matrix\n",
    "\n",
    "# 예시 각도 (단위: 도)\n",
    "# yaw_angle = 30\n",
    "# pitch_angle = 45\n",
    "# roll_angle = 60\n",
    "yaw_angle = 0\n",
    "pitch_angle = 0\n",
    "roll_angle = 90\n",
    "\n",
    "# 회전 행렬 생성\n",
    "rotation_matrix = yaw_pitch_roll_to_rotation_matrix(yaw_angle, pitch_angle, roll_angle)\n",
    "print(rotation_matrix)"
   ]
  },
  {
   "cell_type": "code",
   "execution_count": 34,
   "id": "1c687850",
   "metadata": {},
   "outputs": [
    {
     "name": "stdout",
     "output_type": "stream",
     "text": [
      "[[1. 0. 0.]\n",
      " [0. 1. 0.]\n",
      " [0. 0. 1.]]\n",
      "[0.72, 0.52, 1.5]\n",
      "[-0.025, 0.0, 0.0]\n",
      "PointCloud with 218935 points.\n"
     ]
    },
    {
     "data": {
      "text/plain": [
       "True"
      ]
     },
     "execution_count": 34,
     "metadata": {},
     "output_type": "execute_result"
    }
   ],
   "source": [
    "import numpy as np\n",
    "import open3d as o3d\n",
    "import math\n",
    "\n",
    "# read ply file\n",
    "pcd = o3d.io.read_point_cloud('w640h360/2.ply')\n",
    "\n",
    "# \n",
    "# rotate = np.identity(3)  \n",
    "# size = np.ones(3) * 1.35 # trying to create a bounding box below 1 unit\n",
    "# center = np.zeros(3) \n",
    "\n",
    "# 회전 행렬 참고자료 : https://en.wikipedia.org/wiki/Rotation_matrix\n",
    "yaw_angle = 0  # + : crop 영역 반시계 방향 회전(카메라 시점), - : crop 영역 시계 방향 회전(카메라 시점)\n",
    "pitch_angle = 0\n",
    "roll_angle = 0\n",
    "\n",
    "rotation_matrix = yaw_pitch_roll_to_rotation_matrix(yaw_angle, pitch_angle, roll_angle)\n",
    "size = [0.72,  # 너비(카메라 기준, 2d width) 1.139 보다 작아지면 우측 잘리기 시작함, 0.01 = 2 pixel 거리\n",
    "        0.52,  # 높이(카메라 기준, 2d height) 0.849 보다 작아지면 아래쪽 잘리기 시작함, 0.00875 = 2 pixel 거리\n",
    "        1.500]  # 깊이(카메라 기준 거리, 3d depth) 1.387 보다 작아지면 좌측 아래쪽 바닥 잘리기 시작함\n",
    "                # 바닥 제거 1.345\n",
    "\n",
    "center = [-0.025,  # + : crop 영역이 우측으로 이동, - : crop 영역이 좌측으로 이동 (-0.5195 ~ 0.5708), 합 1.0903\n",
    "          0.0,  # + : crop 영역이 위쪽으로 이동, - : crop 영역이 아래쪽으로 이동 ( -0.4377 ~ 0.4179)\n",
    "          0.0,] # + : crop 영역이 카메라쪽으로 이동, - : crop 영역이 아래쪽으로 이동\n",
    "obb = o3d.geometry.OrientedBoundingBox(center, rotation_matrix, size) # or you can use axis aligned bounding box class\n",
    "\n",
    "print(rotation_matrix)\n",
    "print(size)\n",
    "print(center)\n",
    "\n",
    "crop_pcd = pcd.crop(obb)\n",
    "print(pcd)\n",
    "# visualize\n",
    "o3d.visualization.draw_geometries([crop_pcd])\n",
    "o3d.io.write_point_cloud(\"cropply/croppedtest2.ply\", crop_pcd)\n"
   ]
  },
  {
   "cell_type": "code",
   "execution_count": 99,
   "metadata": {},
   "outputs": [
    {
     "name": "stdout",
     "output_type": "stream",
     "text": [
      "Width Center: 0.09668000000000002\n",
      "Height Center: -0.013427999999999995\n"
     ]
    }
   ],
   "source": [
    "import numpy as np\n",
    "import open3d as o3d\n",
    "\n",
    "# 포인트 클라우드 파일 읽기\n",
    "pcd = o3d.io.read_point_cloud('3dtest/5test_1.ply')\n",
    "\n",
    "# 포인트 클라우드의 포인트 데이터 추출\n",
    "points = np.asarray(pcd.points)\n",
    "\n",
    "# 각 차원의 최소값과 최대값 구하기\n",
    "min_x, min_y, min_z = np.min(points, axis=0)\n",
    "max_x, max_y, max_z = np.max(points, axis=0)\n",
    "\n",
    "# 넓이와 높이의 중심 좌표 구하기\n",
    "width_center = (min_x + max_x) / 2\n",
    "height_center = (min_y + max_y) / 2\n",
    "\n",
    "print(\"Width Center:\", width_center)\n",
    "print(\"Height Center:\", height_center)"
   ]
  }
 ],
 "metadata": {
  "kernelspec": {
   "display_name": "python39",
   "language": "python",
   "name": "python3"
  },
  "language_info": {
   "codemirror_mode": {
    "name": "ipython",
    "version": 3
   },
   "file_extension": ".py",
   "mimetype": "text/x-python",
   "name": "python",
   "nbconvert_exporter": "python",
   "pygments_lexer": "ipython3",
   "version": "3.9.13"
  }
 },
 "nbformat": 4,
 "nbformat_minor": 5
}
