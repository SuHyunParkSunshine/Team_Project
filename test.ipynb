{
 "cells": [
  {
   "cell_type": "code",
   "execution_count": 6,
   "metadata": {},
   "outputs": [
    {
     "data": {
      "text/plain": [
       "<ultralytics.models.yolo.model.YOLO at 0x22f36754fa0>"
      ]
     },
     "execution_count": 6,
     "metadata": {},
     "output_type": "execute_result"
    }
   ],
   "source": [
    "from ultralytics import YOLO\n",
    "model = YOLO(\"model2.pt\")\n",
    "model.to(\"cuda\")\n"
   ]
  },
  {
   "cell_type": "code",
   "execution_count": 7,
   "metadata": {},
   "outputs": [
    {
     "name": "stderr",
     "output_type": "stream",
     "text": [
      "\n",
      "0: 320x416 5 boxs, 1: 320x416 6 boxs, 1 canSnack, 418.9ms\n",
      "Speed: 2.5ms preprocess, 209.4ms inference, 8.5ms postprocess per image at shape (1, 3, 320, 416)\n"
     ]
    }
   ],
   "source": [
    "# 예측한 이미지와 텍스트파일 내가 원하는 경로에 넣기\n",
    "# result = model.predict(source=\"testImage/11_Color_png.rf.0524f13a0db57dc39c4490ef5682c93c.jpg\", save=True, conf=0.6, save_txt=True, device=\"cpu\", project=\"results\", name=\"jwj\")\n",
    "results = model(['testImage/1_Color.png', 'testImage/2_Color.png'], device=\"cpu\")\n",
    "\n",
    "# 결과값 다양하게 보여주기 \n",
    "# https://docs.ultralytics.com/modes/predict/#boxes\n",
    "for result in results:\n",
    "    boxes = result.boxes  # Boxes object for bbox outputs\n",
    "    masks = result.masks  # Masks object for segmentation masks outputs\n",
    "    keypoints = result.keypoints  # Keypoints object for pose outputs\n",
    "    probs = result.probs  # Probs object for classification outputs\n",
    "\n"
   ]
  },
  {
   "cell_type": "markdown",
   "metadata": {},
   "source": []
  }
 ],
 "metadata": {
  "kernelspec": {
   "display_name": ".venv",
   "language": "python",
   "name": "python3"
  },
  "language_info": {
   "codemirror_mode": {
    "name": "ipython",
    "version": 3
   },
   "file_extension": ".py",
   "mimetype": "text/x-python",
   "name": "python",
   "nbconvert_exporter": "python",
   "pygments_lexer": "ipython3",
   "version": "3.9.13"
  },
  "orig_nbformat": 4
 },
 "nbformat": 4,
 "nbformat_minor": 2
}
