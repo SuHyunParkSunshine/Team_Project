{
 "cells": [
  {
   "cell_type": "code",
   "execution_count": 14,
   "metadata": {},
   "outputs": [
    {
     "data": {
      "text/plain": [
       "<ultralytics.models.yolo.model.YOLO at 0x28d832b3130>"
      ]
     },
     "execution_count": 14,
     "metadata": {},
     "output_type": "execute_result"
    }
   ],
   "source": [
    "from ultralytics import YOLO\n",
    "model = YOLO(\"model2.pt\")\n",
    "model.to(\"cuda\")\n"
   ]
  },
  {
   "cell_type": "code",
   "execution_count": 25,
   "metadata": {},
   "outputs": [
    {
     "name": "stderr",
     "output_type": "stream",
     "text": [
      "\n",
      "image 1/1 c:\\Team_Project-1\\testImage\\11_Color_png.rf.0524f13a0db57dc39c4490ef5682c93c.jpg: 416x416 4 energdrinks, 186.0ms\n",
      "Speed: 2.0ms preprocess, 186.0ms inference, 3.0ms postprocess per image at shape (1, 3, 416, 416)\n",
      "Results saved to \u001b[1mresults\\jwj3\u001b[0m\n",
      "1 label saved to results\\jwj3\\labels\n"
     ]
    },
    {
     "ename": "TypeError",
     "evalue": "can only concatenate list (not \"str\") to list",
     "output_type": "error",
     "traceback": [
      "\u001b[1;31m---------------------------------------------------------------------------\u001b[0m",
      "\u001b[1;31mTypeError\u001b[0m                                 Traceback (most recent call last)",
      "Cell \u001b[1;32mIn[25], line 4\u001b[0m\n\u001b[0;32m      1\u001b[0m \u001b[39m# 예측한 이미지와 텍스트파일 내가 원하는 경로에 넣기\u001b[39;00m\n\u001b[0;32m      2\u001b[0m result \u001b[39m=\u001b[39m model\u001b[39m.\u001b[39mpredict(source\u001b[39m=\u001b[39m\u001b[39m\"\u001b[39m\u001b[39mtestImage/11_Color_png.rf.0524f13a0db57dc39c4490ef5682c93c.jpg\u001b[39m\u001b[39m\"\u001b[39m, save\u001b[39m=\u001b[39m\u001b[39mTrue\u001b[39;00m, conf\u001b[39m=\u001b[39m\u001b[39m0.6\u001b[39m, save_txt\u001b[39m=\u001b[39m\u001b[39mTrue\u001b[39;00m, device\u001b[39m=\u001b[39m\u001b[39m\"\u001b[39m\u001b[39mcpu\u001b[39m\u001b[39m\"\u001b[39m, project\u001b[39m=\u001b[39m\u001b[39m\"\u001b[39m\u001b[39mresults\u001b[39m\u001b[39m\"\u001b[39m, name\u001b[39m=\u001b[39m\u001b[39m\"\u001b[39m\u001b[39mjwj\u001b[39m\u001b[39m\"\u001b[39m)\n\u001b[1;32m----> 4\u001b[0m \u001b[39mprint\u001b[39m(result\u001b[39m+\u001b[39;49m\u001b[39m\"\u001b[39;49m\u001b[39m54654\u001b[39;49m\u001b[39m\"\u001b[39;49m)\n",
      "\u001b[1;31mTypeError\u001b[0m: can only concatenate list (not \"str\") to list"
     ]
    }
   ],
   "source": [
    "# 예측한 이미지와 텍스트파일 내가 원하는 경로에 넣기\n",
    "result = model.predict(source=\"testImage/11_Color_png.rf.0524f13a0db57dc39c4490ef5682c93c.jpg\", save=True, conf=0.6, save_txt=True, device=\"cpu\", project=\"results\", name=\"jwj\")\n",
    "\n",
    "print(result)\n"
   ]
  },
  {
   "cell_type": "markdown",
   "metadata": {},
   "source": []
  }
 ],
 "metadata": {
  "kernelspec": {
   "display_name": ".venv",
   "language": "python",
   "name": "python3"
  },
  "language_info": {
   "codemirror_mode": {
    "name": "ipython",
    "version": 3
   },
   "file_extension": ".py",
   "mimetype": "text/x-python",
   "name": "python",
   "nbconvert_exporter": "python",
   "pygments_lexer": "ipython3",
   "version": "3.9.13"
  },
  "orig_nbformat": 4
 },
 "nbformat": 4,
 "nbformat_minor": 2
}
