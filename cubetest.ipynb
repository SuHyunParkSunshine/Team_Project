{
 "cells": [
  {
   "cell_type": "code",
   "execution_count": 47,
   "metadata": {},
   "outputs": [],
   "source": [
    "import open3d as o3d\n",
    "import numpy as np\n",
    "\n",
    "# 정육면체 생성\n",
    "cube = o3d.geometry.TriangleMesh.create_box(width=1.0, height=0.7, depth=0.3)\n",
    "\n",
    "# 색상 설정 (여기서는 빨간색)\n",
    "color = [0.529, 0.808, 0.922]\n",
    "cube.paint_uniform_color(color)\n",
    "\n",
    "\n",
    "\n",
    "\n",
    "# 요피치(yaw), 롤(roll), 피치(pitch) 각도 설정 (라디안 단위)\n",
    "yaw_angle = np.radians(90.0)  # 요피치 각도 (90도를 라디안으로 변환)\n",
    "pitch_angle = np.radians(180.0)  # 피치 각도 (180도를 라디안으로 변환)\n",
    "roll_angle = np.radians(90.0)  # 롤 각도 (90도를 라디안으로 변환)\n",
    "\n",
    "# 중점을 중심으로 회전 변환 행렬 생성\n",
    "rotation_matrix = np.identity(4)\n",
    "rotation_matrix[:3, :3] = o3d.geometry.get_rotation_matrix_from_xyz((yaw_angle, pitch_angle, roll_angle))\n",
    "\n",
    "# 중점을 중심으로 회전\n",
    "cube.transform(rotation_matrix)\n",
    "\n",
    "# 중점 계산\n",
    "center = cube.get_center()\n",
    "\n",
    "# 중앙 위치에 좌표 프레임 메시 생성\n",
    "mesh = o3d.geometry.TriangleMesh.create_coordinate_frame(size=0.8)\n",
    "\n",
    "# 중앙 위치에 좌표 프레임 메시를 이동\n",
    "mesh.translate(center)\n",
    "\n",
    "# 시각화\n",
    "o3d.visualization.draw_geometries([cube, mesh])"
   ]
  }
 ],
 "metadata": {
  "kernelspec": {
   "display_name": ".venv",
   "language": "python",
   "name": "python3"
  },
  "language_info": {
   "codemirror_mode": {
    "name": "ipython",
    "version": 3
   },
   "file_extension": ".py",
   "mimetype": "text/x-python",
   "name": "python",
   "nbconvert_exporter": "python",
   "pygments_lexer": "ipython3",
   "version": "3.9.13"
  },
  "orig_nbformat": 4
 },
 "nbformat": 4,
 "nbformat_minor": 2
}
