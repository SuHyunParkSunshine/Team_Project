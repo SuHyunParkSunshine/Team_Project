{
 "cells": [
  {
   "cell_type": "code",
   "execution_count": 2,
   "metadata": {},
   "outputs": [],
   "source": [
    "import open3d as o3d\n",
    "import numpy as np\n",
    "\n",
    "# 정육면체 생성\n",
    "cube = o3d.geometry.TriangleMesh.create_box(width=1.0, height=0.7, depth=0.3)\n",
    "# plane = o3d.geometry.TriangleMesh.create_mesh_coordinate_frame(size=1.0)\n",
    "\n",
    "# 색상 설정 (여기서는 빨간색)\n",
    "color = [0.529, 0.808, 0.922]\n",
    "cube.paint_uniform_color(color)\n",
    "\n",
    "\n",
    "\n",
    "# 요피치(yaw), 롤(roll), 피치(pitch) 각도 설정 (라디안 단위)\n",
    "roll_angle = np.radians(0.0)  # 롤 각도 (90도를 라디안으로 변환)\n",
    "pitch_angle = np.radians(0.0)  # 피치 각도 (180도를 라디안으로 변환)\n",
    "yaw_angle = np.radians(30.0)  # 요피치 각도 (90도를 라디안으로 변환)\n",
    "\n",
    "\n",
    "# 중점을 중심으로 회전 변환 행렬 생성\n",
    "rotation_matrix = np.identity(4)\n",
    "rotation_matrix[:3, :3] = o3d.geometry.get_rotation_matrix_from_xyz((roll_angle, pitch_angle, yaw_angle))\n",
    "\n",
    "# 중점을 중심으로 회전\n",
    "cube.transform(rotation_matrix)\n",
    "\n",
    "# 중점 계산\n",
    "center = cube.get_center()\n",
    "# 중앙 위치에 좌표 프레임 메시 생성\n",
    "mesh = o3d.geometry.TriangleMesh.create_coordinate_frame(size=0.8)\n",
    "\n",
    "# 중앙 위치에 좌표 프레임 메시를 이동\n",
    "mesh.translate(center)\n",
    "\n",
    "\n",
    "\n",
    "# o3d.visualization.draw_geometries([plane])\n",
    "# 시각화\n",
    "o3d.visualization.draw_geometries([cube, mesh])"
   ]
  },
  {
   "cell_type": "code",
   "execution_count": 1,
   "metadata": {},
   "outputs": [
    {
     "ename": "NameError",
     "evalue": "name 'color_image' is not defined",
     "output_type": "error",
     "traceback": [
      "\u001b[1;31m---------------------------------------------------------------------------\u001b[0m",
      "\u001b[1;31mNameError\u001b[0m                                 Traceback (most recent call last)",
      "\u001b[1;32mc:\\Team_Project-1\\cubetest.ipynb Cell 2\u001b[0m line \u001b[0;36m1\n\u001b[0;32m     <a href='vscode-notebook-cell:/c%3A/Team_Project-1/cubetest.ipynb#W1sZmlsZQ%3D%3D?line=15'>16</a>\u001b[0m color_frame \u001b[39m=\u001b[39m frame\u001b[39m.\u001b[39mget_color_frame()\n\u001b[0;32m     <a href='vscode-notebook-cell:/c%3A/Team_Project-1/cubetest.ipynb#W1sZmlsZQ%3D%3D?line=17'>18</a>\u001b[0m depth_image \u001b[39m=\u001b[39m np\u001b[39m.\u001b[39masanyarray(depth_frame\u001b[39m.\u001b[39mget_data())\n\u001b[1;32m---> <a href='vscode-notebook-cell:/c%3A/Team_Project-1/cubetest.ipynb#W1sZmlsZQ%3D%3D?line=18'>19</a>\u001b[0m color_image \u001b[39m=\u001b[39m np\u001b[39m.\u001b[39masanyarray(color_image\u001b[39m.\u001b[39mget_data())\n\u001b[0;32m     <a href='vscode-notebook-cell:/c%3A/Team_Project-1/cubetest.ipynb#W1sZmlsZQ%3D%3D?line=19'>20</a>\u001b[0m depth_cm \u001b[39m=\u001b[39m cv2\u001b[39m.\u001b[39mapplyColorMap(cv2\u001b[39m.\u001b[39mconvertScaleAbs(depth_image,alpha\u001b[39m=\u001b[39m\u001b[39m0.5\u001b[39m),cv2\u001b[39m.\u001b[39mCOLORMAP_JET)\n\u001b[0;32m     <a href='vscode-notebook-cell:/c%3A/Team_Project-1/cubetest.ipynb#W1sZmlsZQ%3D%3D?line=21'>22</a>\u001b[0m cv2\u001b[39m.\u001b[39mimshow(\u001b[39m\"\u001b[39m\u001b[39mrgb\u001b[39m\u001b[39m\"\u001b[39m, color_image)\n",
      "\u001b[1;31mNameError\u001b[0m: name 'color_image' is not defined"
     ]
    }
   ],
   "source": [
    "import pyrealsense2 as rs\n",
    "import numpy as np\n",
    "import cv2\n",
    "\n",
    "pipe = rs.pipeline()\n",
    "cfg =rs.config()\n",
    "\n",
    "cfg.enable_stream(rs.stream.color, 640,480, rs.format.bgr8,30)\n",
    "cfg.enable_stream(rs.stream.depth, 640,480, rs.format.z16,30)\n",
    "\n",
    "pipe.start(cfg)\n",
    "\n",
    "while True:\n",
    "    frame = pipe.wait_for_frames()\n",
    "    depth_frame = frame.get_depth_frame()\n",
    "    color_frame = frame.get_color_frame()\n",
    "    \n",
    "    depth_image = np.asanyarray(depth_frame.get_data())\n",
    "    color_image = np.asanyarray(color_frame.get_data())\n",
    "    depth_cm = cv2.applyColorMap(cv2.convertScaleAbs(depth_image,alpha=0.5),cv2.COLORMAP_JET)\n",
    "    \n",
    "    cv2.imshow(\"rgb\", color_image)\n",
    "    cv2.imshow(\"depth\",depth_cm)\n",
    "    \n",
    "    if cv2.waitKey(1) == ord(\"q\"):\n",
    "        break"
   ]
  }
 ],
 "metadata": {
  "kernelspec": {
   "display_name": ".venv",
   "language": "python",
   "name": "python3"
  },
  "language_info": {
   "codemirror_mode": {
    "name": "ipython",
    "version": 3
   },
   "file_extension": ".py",
   "mimetype": "text/x-python",
   "name": "python",
   "nbconvert_exporter": "python",
   "pygments_lexer": "ipython3",
   "version": "3.9.13"
  },
  "orig_nbformat": 4
 },
 "nbformat": 4,
 "nbformat_minor": 2
}
