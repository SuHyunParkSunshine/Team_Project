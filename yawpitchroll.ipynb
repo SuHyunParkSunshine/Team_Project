{
 "cells": [
  {
   "cell_type": "code",
   "execution_count": 31,
   "metadata": {},
   "outputs": [
    {
     "name": "stderr",
     "output_type": "stream",
     "text": [
      "\n",
      "image 1/1 c:\\Team_Project-1\\validimage\\4_Color.png: 384x640 1 box, 368.0ms\n",
      "Speed: 0.0ms preprocess, 368.0ms inference, 0.0ms postprocess per image at shape (1, 3, 384, 640)\n"
     ]
    },
    {
     "name": "stdout",
     "output_type": "stream",
     "text": [
      "1\n"
     ]
    }
   ],
   "source": [
    "from ultralytics import YOLO\n",
    "model = YOLO(\"modelFolder/model_v2.pt\")\n",
    "results = model(source=\"validimage/4_Color.png\",device=\"cpu\", project = \"results\",name=\"test6d\", conf=0.8 )\n",
    "for result in results:\n",
    "    image_points = result.masks.xyn\n",
    "    print(len(image_points))\n",
    "    "
   ]
  },
  {
   "cell_type": "code",
   "execution_count": 32,
   "metadata": {},
   "outputs": [
    {
     "name": "stdout",
     "output_type": "stream",
     "text": [
      "[PointCloud with 1542 points.]\n"
     ]
    }
   ],
   "source": [
    "from crop_ply import *\n",
    "xyz_output= cropPly(image_points,\"validimage/4.ply\")\n",
    "print(xyz_output)"
   ]
  },
  {
   "cell_type": "code",
   "execution_count": 33,
   "metadata": {},
   "outputs": [
    {
     "name": "stdout",
     "output_type": "stream",
     "text": [
      "[  -0.039082   -0.023089    -0.64577]\n",
      "요피치 롤(x 축 기준): 142.55568152288373도\n",
      "요피치 롤(y 축 기준): 127.43763680618306도\n",
      "요피치 롤(z 축 기준): 90.60794392896534도\n"
     ]
    }
   ],
   "source": [
    "import open3d as o3d\n",
    "import numpy as np\n",
    "\n",
    "# 포인트 클라우드를 시각화\n",
    "for cloud in xyz_output:\n",
    "    # 포인트 클라우드의 경계 상자 계산\n",
    "    aabb = cloud.get_axis_aligned_bounding_box()\n",
    "    aabb.color = (1, 0, 0)\n",
    "\n",
    "    obb = cloud.get_oriented_bounding_box()\n",
    "    obb.color = (0, 1, 0)\n",
    "\n",
    "    # 클라우드 포인트의 중심 위치 계산\n",
    "    center = np.mean(np.asarray(cloud.points), axis=0)\n",
    "    print(center)\n",
    "\n",
    "    # 중앙 위치에 좌표 프레임 메시 생성\n",
    "    mesh = o3d.geometry.TriangleMesh.create_coordinate_frame(size=0.07)  # size를 조절하여 좌표 프레임 크기 설정 가능\n",
    "\n",
    "    # 중앙 위치에 좌표 프레임 메시를 이동\n",
    "    mesh.translate(center)\n",
    "\n",
    "    # 시각화\n",
    "    o3d.visualization.draw_geometries([cloud, aabb, obb, mesh])\n",
    "\n",
    "    # PCA를 수행하여 주요 주성분 벡터를 찾습니다.\n",
    "    points = np.asarray(cloud.points)\n",
    "    covariance_matrix = np.cov(points, rowvar=False)\n",
    "    eigenvalues, eigenvectors = np.linalg.eigh(covariance_matrix)\n",
    "\n",
    "    # 주요 주성분 벡터와 각각의 축과의 각도를 계산합니다.\n",
    "    x_axis = np.array([1, 0, 0])  # x 축\n",
    "    y_axis = np.array([0, 1, 0])  # y 축\n",
    "    z_axis = np.array([0, 0, 1])  # z 축\n",
    "\n",
    "    angle_x_rad = np.arccos(np.dot(eigenvectors[:, -1], x_axis) / (np.linalg.norm(eigenvectors[:, -1]) * np.linalg.norm(x_axis)))\n",
    "    angle_x_deg = np.degrees(angle_x_rad)\n",
    "\n",
    "    angle_y_rad = np.arccos(np.dot(eigenvectors[:, -1], y_axis) / (np.linalg.norm(eigenvectors[:, -1]) * np.linalg.norm(y_axis)))\n",
    "    angle_y_deg = np.degrees(angle_y_rad)\n",
    "\n",
    "    angle_z_rad = np.arccos(np.dot(eigenvectors[:, -1], z_axis) / (np.linalg.norm(eigenvectors[:, -1]) * np.linalg.norm(z_axis)))\n",
    "    angle_z_deg = np.degrees(angle_z_rad)\n",
    "\n",
    "    \n",
    "    print(f\"요피치 롤(x 축 기준): {angle_x_deg}도\")\n",
    "    print(f\"요피치 롤(y 축 기준): {angle_y_deg}도\")\n",
    "    print(f\"요피치 롤(z 축 기준): {angle_z_deg}도\")\n",
    "    \n",
    "    o3d.io.write_point_cloud(\"robot/test.ply\", cloud)\n"
   ]
  },
  {
   "cell_type": "code",
   "execution_count": 34,
   "metadata": {},
   "outputs": [
    {
     "name": "stdout",
     "output_type": "stream",
     "text": [
      "[  -0.039082   -0.023089    -0.64577]\n",
      "쿼터니언 회전: [          0           0     0.71085     0.70335]\n"
     ]
    }
   ],
   "source": [
    "import open3d as o3d\n",
    "import numpy as np\n",
    "from scipy.spatial.transform import Rotation as R\n",
    "\n",
    "# 포인트 클라우드를 시각화\n",
    "for cloud in xyz_output:\n",
    "    # 포인트 클라우드의 경계 상자 계산\n",
    "    aabb = cloud.get_axis_aligned_bounding_box()\n",
    "    aabb.color = (1, 0, 0)\n",
    "\n",
    "    obb = cloud.get_oriented_bounding_box()\n",
    "    obb.color = (0, 1, 0)\n",
    "\n",
    "    # 클라우드 포인트의 중심 위치 계산\n",
    "    center = np.mean(np.asarray(cloud.points), axis=0)\n",
    "    print(center)\n",
    "\n",
    "    # 중앙 위치에 좌표 프레임 메시 생성\n",
    "    mesh = o3d.geometry.TriangleMesh.create_coordinate_frame(size=0.07)  # size를 조절하여 좌표 프레임 크기 설정 가능\n",
    "\n",
    "    # 중앙 위치에 좌표 프레임 메시를 이동\n",
    "    mesh.translate(center)\n",
    "\n",
    "    # 시각화\n",
    "    o3d.visualization.draw_geometries([cloud, aabb, obb, mesh])\n",
    "\n",
    "    # PCA를 수행하여 주요 주성분 벡터를 찾습니다.\n",
    "    points = np.asarray(cloud.points)\n",
    "\n",
    "    # 쿼터니언 회전을 계산하는 함수\n",
    "    def compute_quaternion_rotation(points):\n",
    "        covariance_matrix = np.cov(points, rowvar=False)\n",
    "        eigenvalues, eigenvectors = np.linalg.eigh(covariance_matrix)\n",
    "        longest_eigenvector = eigenvectors[:, -1]\n",
    "        z_axis = np.array([0, 0, 1])  # z 축\n",
    "        angle_z_rad = np.arccos(np.dot(longest_eigenvector, z_axis) / (np.linalg.norm(longest_eigenvector) * np.linalg.norm(z_axis)))\n",
    "        rotation = R.from_euler('z', np.degrees(angle_z_rad), degrees=True)\n",
    "        return rotation.as_quat()\n",
    "\n",
    "    # 쿼터니언 회전을 계산합니다.\n",
    "    quaternion_rotation = compute_quaternion_rotation(points)\n",
    "\n",
    "    # 쿼터니언 회전을 출력합니다.\n",
    "    print(\"쿼터니언 회전:\", quaternion_rotation)\n",
    "\n",
    "    o3d.io.write_point_cloud(\"robot/test.ply\", cloud)\n"
   ]
  },
  {
   "cell_type": "code",
   "execution_count": 35,
   "metadata": {},
   "outputs": [
    {
     "name": "stdout",
     "output_type": "stream",
     "text": [
      "[  -0.039082   -0.023089    -0.64577]\n",
      "요피치 롤(x 축 기준): 142.55568152288373도\n",
      "요피치 롤(y 축 기준): 127.43763680618306도\n",
      "요피치 롤(z 축 기준): 90.60794392896534도\n"
     ]
    }
   ],
   "source": [
    "import open3d as o3d\n",
    "import numpy as np\n",
    "\n",
    "# 포인트 클라우드를 시각화\n",
    "for cloud in xyz_output:\n",
    "    # 포인트 클라우드의 경계 상자 계산\n",
    "    aabb = cloud.get_axis_aligned_bounding_box()\n",
    "    aabb.color = (1, 0, 0)\n",
    "\n",
    "    obb = cloud.get_oriented_bounding_box()\n",
    "    obb.color = (0, 1, 0)\n",
    "\n",
    "    # 클라우드 포인트의 중심 위치 계산\n",
    "    center = np.mean(np.asarray(cloud.points), axis=0)\n",
    "    print(center)\n",
    "\n",
    "    # 중앙 위치에 좌표 프레임 메시 생성\n",
    "    mesh = o3d.geometry.TriangleMesh.create_coordinate_frame(size=0.07)  # size를 조절하여 좌표 프레임 크기 설정 가능\n",
    "\n",
    "    # 중앙 위치에 좌표 프레임 메시를 이동\n",
    "    mesh.translate(center)\n",
    "\n",
    "    # OBB 상자의 중심에서 시작하는 직교하는 선을 생성\n",
    "    line_length = 0.1  # 선의 길이 조절\n",
    "    obb_axes = -np.asarray(obb.R)  # OBB의 방향 벡터를 역방향으로 사용\n",
    "\n",
    "    line_x = o3d.geometry.LineSet()\n",
    "    line_x.points = o3d.utility.Vector3dVector([obb_center, obb_center + line_length * obb_axes[0]])\n",
    "    line_x.lines = o3d.utility.Vector2iVector([[0, 1]])\n",
    "    line_x.colors = o3d.utility.Vector3dVector([[1, 0, 0]])  # 빨간색\n",
    "\n",
    "    line_y = o3d.geometry.LineSet()\n",
    "    line_y.points = o3d.utility.Vector3dVector([obb_center, obb_center + line_length * obb_axes[1]])\n",
    "    line_y.lines = o3d.utility.Vector2iVector([[0, 1]])\n",
    "    line_y.colors = o3d.utility.Vector3dVector([[0, 1, 0]])  # 녹색\n",
    "\n",
    "    line_z = o3d.geometry.LineSet()\n",
    "    line_z.points = o3d.utility.Vector3dVector([obb_center, obb_center + line_length * obb_axes[2]])\n",
    "    line_z.lines = o3d.utility.Vector2iVector([[0, 1]])\n",
    "    line_z.colors = o3d.utility.Vector3dVector([[0, 0, 1]])  # 파란색\n",
    "\n",
    "    \n",
    "\n",
    "    # PCA를 수행하여 주요 주성분 벡터를 찾습니다.\n",
    "    points = np.asarray(cloud.points)\n",
    "    covariance_matrix = np.cov(points, rowvar=False)\n",
    "    eigenvalues, eigenvectors = np.linalg.eigh(covariance_matrix)\n",
    "\n",
    "    # 주요 주성분 벡터와 각각의 축과의 각도를 계산합니다.\n",
    "    x_axis = np.array([1, 0, 0])  # x 축\n",
    "    y_axis = np.array([0, 1, 0])  # y 축\n",
    "    z_axis = np.array([0, 0, 1])  # z 축\n",
    "\n",
    "    angle_x_rad = np.arccos(np.dot(eigenvectors[:, -1], x_axis) / (np.linalg.norm(eigenvectors[:, -1]) * np.linalg.norm(x_axis)))\n",
    "    angle_x_deg = np.degrees(angle_x_rad)\n",
    "\n",
    "    angle_y_rad = np.arccos(np.dot(eigenvectors[:, -1], y_axis) / (np.linalg.norm(eigenvectors[:, -1]) * np.linalg.norm(y_axis)))\n",
    "    angle_y_deg = np.degrees(angle_y_rad)\n",
    "\n",
    "    angle_z_rad = np.arccos(np.dot(eigenvectors[:, -1], z_axis) / (np.linalg.norm(eigenvectors[:, -1]) * np.linalg.norm(z_axis)))\n",
    "    angle_z_deg = np.degrees(angle_z_rad)\n",
    "\n",
    "    print(f\"요피치 롤(x 축 기준): {angle_x_deg}도\")\n",
    "    print(f\"요피치 롤(y 축 기준): {angle_y_deg}도\")\n",
    "    print(f\"요피치 롤(z 축 기준): {angle_z_deg}도\")\n",
    "    \n",
    "    # 시각화\n",
    "    o3d.visualization.draw_geometries([cloud, aabb, obb, mesh, line_x, line_y, line_z])\n",
    "    \n",
    "    o3d.io.write_point_cloud(\"robot/test.ply\", cloud)\n"
   ]
  }
 ],
 "metadata": {
  "kernelspec": {
   "display_name": ".venv",
   "language": "python",
   "name": "python3"
  },
  "language_info": {
   "codemirror_mode": {
    "name": "ipython",
    "version": 3
   },
   "file_extension": ".py",
   "mimetype": "text/x-python",
   "name": "python",
   "nbconvert_exporter": "python",
   "pygments_lexer": "ipython3",
   "version": "3.9.13"
  },
  "orig_nbformat": 4
 },
 "nbformat": 4,
 "nbformat_minor": 2
}
