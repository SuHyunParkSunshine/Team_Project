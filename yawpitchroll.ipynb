{
 "cells": [
  {
   "cell_type": "code",
   "execution_count": 58,
   "metadata": {},
   "outputs": [
    {
     "name": "stderr",
     "output_type": "stream",
     "text": [
      "\n",
      "image 1/1 c:\\Team_Project-1\\w640h360\\9_Color.png: 256x416 2 boxs, 94.7ms\n",
      "Speed: 2.0ms preprocess, 94.7ms inference, 2.0ms postprocess per image at shape (1, 3, 256, 416)\n"
     ]
    },
    {
     "name": "stdout",
     "output_type": "stream",
     "text": [
      "2\n"
     ]
    }
   ],
   "source": [
    "from ultralytics import YOLO\n",
    "model = YOLO(\"modelFolder/model_v4.pt\")\n",
    "results = model(source=\"w640h360/9_Color.png\",device=\"cpu\", project = \"results\",name=\"test\", conf=0.8 )\n",
    "for result in results:\n",
    "    image_points = result.masks.xyn\n",
    "    print(len(image_points))\n",
    "    "
   ]
  },
  {
   "cell_type": "code",
   "execution_count": 59,
   "metadata": {},
   "outputs": [
    {
     "name": "stdout",
     "output_type": "stream",
     "text": [
      "[PointCloud with 925 points., PointCloud with 2290 points.]\n"
     ]
    }
   ],
   "source": [
    "from crop_ply import *\n",
    "xyz_output= cropPly(image_points,\"w640h360/9.ply\")\n",
    "print(xyz_output)"
   ]
  },
  {
   "cell_type": "code",
   "execution_count": 60,
   "metadata": {},
   "outputs": [
    {
     "name": "stdout",
     "output_type": "stream",
     "text": [
      "[    0.57881     0.60836    -0.56029]\n",
      "요피치 롤(x 축 기준): 127.04044031040468도\n",
      "요피치 롤(y 축 기준): 141.74192506594449도\n",
      "요피치 롤(z 축 기준): 98.242794340815도\n",
      "[    0.56657     0.35753      -0.528]\n",
      "요피치 롤(x 축 기준): 95.12756651815148도\n",
      "요피치 롤(y 축 기준): 164.2167922625052도\n",
      "요피치 롤(z 축 기준): 75.11405530608883도\n"
     ]
    }
   ],
   "source": [
    "import open3d as o3d\n",
    "import numpy as np\n",
    "\n",
    "# 포인트 클라우드를 시각화\n",
    "for cloud in xyz_output:\n",
    "    # 포인트 클라우드의 경계 상자 계산\n",
    "    aabb = cloud.get_axis_aligned_bounding_box()\n",
    "    aabb.color = (1, 0, 0)\n",
    "\n",
    "    obb = cloud.get_oriented_bounding_box()\n",
    "    obb.color = (0, 1, 0)\n",
    "\n",
    "    # 클라우드 포인트의 중심 위치 계산\n",
    "    center = np.mean(np.asarray(cloud.points), axis=0)\n",
    "    print(center)\n",
    "\n",
    "    # 중앙 위치에 좌표 프레임 메시 생성\n",
    "    mesh = o3d.geometry.TriangleMesh.create_coordinate_frame(size=0.07)  # size를 조절하여 좌표 프레임 크기 설정 가능\n",
    "\n",
    "    # 중앙 위치에 좌표 프레임 메시를 이동\n",
    "    mesh.translate(center)\n",
    "\n",
    "    # 시각화\n",
    "    o3d.visualization.draw_geometries([cloud, aabb, obb, mesh])\n",
    "\n",
    "    # PCA를 수행하여 주요 주성분 벡터를 찾습니다.\n",
    "    points = np.asarray(cloud.points)\n",
    "    covariance_matrix = np.cov(points, rowvar=False)\n",
    "    eigenvalues, eigenvectors = np.linalg.eigh(covariance_matrix)\n",
    "\n",
    "    # 주요 주성분 벡터와 각각의 축과의 각도를 계산합니다.\n",
    "    x_axis = np.array([1, 0, 0])  # x 축\n",
    "    y_axis = np.array([0, 1, 0])  # y 축\n",
    "    z_axis = np.array([0, 0, 1])  # z 축\n",
    "\n",
    "    angle_x_rad = np.arccos(np.dot(eigenvectors[:, -1], x_axis) / (np.linalg.norm(eigenvectors[:, -1]) * np.linalg.norm(x_axis)))\n",
    "    angle_x_deg = np.degrees(angle_x_rad)\n",
    "\n",
    "    angle_y_rad = np.arccos(np.dot(eigenvectors[:, -1], y_axis) / (np.linalg.norm(eigenvectors[:, -1]) * np.linalg.norm(y_axis)))\n",
    "    angle_y_deg = np.degrees(angle_y_rad)\n",
    "\n",
    "    angle_z_rad = np.arccos(np.dot(eigenvectors[:, -1], z_axis) / (np.linalg.norm(eigenvectors[:, -1]) * np.linalg.norm(z_axis)))\n",
    "    angle_z_deg = np.degrees(angle_z_rad)\n",
    "\n",
    "    print(f\"요피치 롤(x 축 기준): {angle_x_deg}도\")\n",
    "    print(f\"요피치 롤(y 축 기준): {angle_y_deg}도\")\n",
    "    print(f\"요피치 롤(z 축 기준): {angle_z_deg}도\")\n"
   ]
  }
 ],
 "metadata": {
  "kernelspec": {
   "display_name": ".venv",
   "language": "python",
   "name": "python3"
  },
  "language_info": {
   "codemirror_mode": {
    "name": "ipython",
    "version": 3
   },
   "file_extension": ".py",
   "mimetype": "text/x-python",
   "name": "python",
   "nbconvert_exporter": "python",
   "pygments_lexer": "ipython3",
   "version": "3.9.13"
  },
  "orig_nbformat": 4
 },
 "nbformat": 4,
 "nbformat_minor": 2
}
