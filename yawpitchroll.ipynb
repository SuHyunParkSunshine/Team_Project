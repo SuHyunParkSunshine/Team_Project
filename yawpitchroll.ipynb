{
 "cells": [
  {
   "cell_type": "code",
   "execution_count": 21,
   "metadata": {},
   "outputs": [
    {
     "name": "stderr",
     "output_type": "stream",
     "text": [
      "\n",
      "image 1/1 c:\\Team_Project-1\\w640h360\\10_Color.png: 256x416 1 box, 91.2ms\n",
      "Speed: 1.0ms preprocess, 91.2ms inference, 2.0ms postprocess per image at shape (1, 3, 256, 416)\n",
      "Results saved to \u001b[1mresults\\test3\u001b[0m\n"
     ]
    },
    {
     "name": "stdout",
     "output_type": "stream",
     "text": [
      "1\n"
     ]
    }
   ],
   "source": [
    "from ultralytics import YOLO\n",
    "model = YOLO(\"modelFolder/model_v4.pt\")\n",
    "results = model(source=\"w640h360/10_Color.png\",device=\"cpu\", project = \"results\",name=\"test\", conf=0.8 )\n",
    "for result in results:\n",
    "    image_points = result.masks.xyn\n",
    "    print(len(image_points))\n",
    "    "
   ]
  },
  {
   "cell_type": "code",
   "execution_count": 22,
   "metadata": {},
   "outputs": [
    {
     "name": "stdout",
     "output_type": "stream",
     "text": [
      "[PointCloud with 3542 points.]\n"
     ]
    }
   ],
   "source": [
    "from crop_ply import *\n",
    "xyz_output= cropPly(image_points,\"w640h360/10.ply\")\n",
    "print(xyz_output)"
   ]
  },
  {
   "cell_type": "code",
   "execution_count": 47,
   "metadata": {},
   "outputs": [
    {
     "name": "stdout",
     "output_type": "stream",
     "text": [
      "[    0.54761     0.50413    -0.58865]\n"
     ]
    }
   ],
   "source": [
    "import open3d as o3d\n",
    "import numpy as np\n",
    "\n",
    "# 포인트 클라우드를 시각화\n",
    "for cloud in xyz_output:\n",
    "    # 포인트 클라우드의 경계 상자 계산\n",
    "    aabb = cloud.get_axis_aligned_bounding_box()\n",
    "    aabb.color = (1, 0, 0)\n",
    "\n",
    "    obb = cloud.get_oriented_bounding_box()\n",
    "    obb.color = (0, 1, 0)\n",
    "\n",
    "    # 클라우드 포인트의 중심 위치 계산\n",
    "    center = np.mean(np.asarray(cloud.points), axis=0)\n",
    "    print(center)\n",
    "    \n",
    "\n",
    "    # 시각화\n",
    "    o3d.visualization.draw_geometries([cloud, aabb, obb])\n"
   ]
  }
 ],
 "metadata": {
  "kernelspec": {
   "display_name": ".venv",
   "language": "python",
   "name": "python3"
  },
  "language_info": {
   "codemirror_mode": {
    "name": "ipython",
    "version": 3
   },
   "file_extension": ".py",
   "mimetype": "text/x-python",
   "name": "python",
   "nbconvert_exporter": "python",
   "pygments_lexer": "ipython3",
   "version": "3.9.13"
  },
  "orig_nbformat": 4
 },
 "nbformat": 4,
 "nbformat_minor": 2
}
