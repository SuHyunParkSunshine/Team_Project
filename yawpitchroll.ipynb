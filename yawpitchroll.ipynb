{
 "cells": [
  {
   "cell_type": "code",
   "execution_count": 1,
   "metadata": {},
   "outputs": [
    {
     "name": "stderr",
     "output_type": "stream",
     "text": [
      "\n",
      "image 1/1 c:\\Team_Project-1\\validimage\\1_Color.png: 384x640 1 box, 418.6ms\n",
      "Speed: 15.6ms preprocess, 418.6ms inference, 15.6ms postprocess per image at shape (1, 3, 384, 640)\n"
     ]
    },
    {
     "name": "stdout",
     "output_type": "stream",
     "text": [
      "1\n"
     ]
    }
   ],
   "source": [
    "from ultralytics import YOLO\n",
    "model = YOLO(\"modelFolder/model_v2.pt\")\n",
    "results = model(source=\"validimage/1_Color.png\",device=\"cpu\", project = \"results\",name=\"test6d\", conf=0.8 )\n",
    "for result in results:\n",
    "    image_points = result.masks.xyn\n",
    "    print(len(image_points))\n",
    "    "
   ]
  },
  {
   "cell_type": "code",
   "execution_count": 2,
   "metadata": {},
   "outputs": [
    {
     "name": "stdout",
     "output_type": "stream",
     "text": [
      "Jupyter environment detected. Enabling Open3D WebVisualizer.\n",
      "[Open3D INFO] WebRTC GUI backend enabled.\n",
      "[Open3D INFO] WebRTCWindowSystem: HTTP handshake server disabled.\n",
      "[PointCloud with 1514 points.]\n"
     ]
    }
   ],
   "source": [
    "from crop_ply import *\n",
    "xyz_output= cropPly(image_points,\"validimage/1.ply\")\n",
    "print(xyz_output)"
   ]
  },
  {
   "cell_type": "code",
   "execution_count": 6,
   "metadata": {},
   "outputs": [
    {
     "name": "stdout",
     "output_type": "stream",
     "text": [
      "[    0.47369     0.44579    -0.64438]\n",
      "요피치 롤(x 축 기준): 93.35221844791774도\n",
      "요피치 롤(y 축 기준): 176.24944284696656도\n",
      "요피치 롤(z 축 기준): 88.31986441282403도\n"
     ]
    }
   ],
   "source": [
    "import open3d as o3d\n",
    "import numpy as np\n",
    "\n",
    "# 포인트 클라우드를 시각화\n",
    "for cloud in xyz_output:\n",
    "    # 포인트 클라우드의 경계 상자 계산\n",
    "    aabb = cloud.get_axis_aligned_bounding_box()\n",
    "    aabb.color = (1, 0, 0)\n",
    "\n",
    "    obb = cloud.get_oriented_bounding_box()\n",
    "    obb.color = (0, 1, 0)\n",
    "\n",
    "    # 클라우드 포인트의 중심 위치 계산\n",
    "    center = np.mean(np.asarray(cloud.points), axis=0)\n",
    "    print(center)\n",
    "\n",
    "    # 중앙 위치에 좌표 프레임 메시 생성\n",
    "    mesh = o3d.geometry.TriangleMesh.create_coordinate_frame(size=0.07)  # size를 조절하여 좌표 프레임 크기 설정 가능\n",
    "\n",
    "    # 중앙 위치에 좌표 프레임 메시를 이동\n",
    "    mesh.translate(center)\n",
    "\n",
    "    # 시각화\n",
    "    o3d.visualization.draw_geometries([cloud, aabb, obb, mesh])\n",
    "\n",
    "    # PCA를 수행하여 주요 주성분 벡터를 찾습니다.\n",
    "    points = np.asarray(cloud.points)\n",
    "    covariance_matrix = np.cov(points, rowvar=False)\n",
    "    eigenvalues, eigenvectors = np.linalg.eigh(covariance_matrix)\n",
    "\n",
    "    # 주요 주성분 벡터와 각각의 축과의 각도를 계산합니다.\n",
    "    x_axis = np.array([1, 0, 0])  # x 축\n",
    "    y_axis = np.array([0, 1, 0])  # y 축\n",
    "    z_axis = np.array([0, 0, 1])  # z 축\n",
    "\n",
    "    angle_x_rad = np.arccos(np.dot(eigenvectors[:, -1], x_axis) / (np.linalg.norm(eigenvectors[:, -1]) * np.linalg.norm(x_axis)))\n",
    "    angle_x_deg = np.degrees(angle_x_rad)\n",
    "\n",
    "    angle_y_rad = np.arccos(np.dot(eigenvectors[:, -1], y_axis) / (np.linalg.norm(eigenvectors[:, -1]) * np.linalg.norm(y_axis)))\n",
    "    angle_y_deg = np.degrees(angle_y_rad)\n",
    "\n",
    "    angle_z_rad = np.arccos(np.dot(eigenvectors[:, -1], z_axis) / (np.linalg.norm(eigenvectors[:, -1]) * np.linalg.norm(z_axis)))\n",
    "    angle_z_deg = np.degrees(angle_z_rad)\n",
    "\n",
    "    print(f\"요피치 롤(x 축 기준): {angle_x_deg}도\")\n",
    "    print(f\"요피치 롤(y 축 기준): {angle_y_deg}도\")\n",
    "    print(f\"요피치 롤(z 축 기준): {angle_z_deg}도\")\n",
    "    \n",
    "    o3d.io.write_point_cloud(\"robot/test.ply\", cloud)\n"
   ]
  },
  {
   "cell_type": "code",
   "execution_count": 7,
   "metadata": {},
   "outputs": [
    {
     "data": {
      "text/plain": [
       "True"
      ]
     },
     "execution_count": 7,
     "metadata": {},
     "output_type": "execute_result"
    }
   ],
   "source": [
    "import open3d as o3d\n",
    "import numpy as np\n",
    "\n",
    "# 표준화된 데이터를 가지고 있는 PCD 파일을 불러옵니다.\n",
    "loaded_cloud = o3d.io.read_point_cloud(\"robot/test.ply\")\n",
    "\n",
    "# 포인트 클라우드 좌표를 가져옵니다.\n",
    "points = np.asarray(loaded_cloud.points)\n",
    "\n",
    "# x 및 y 좌표를 원래 데이터 범위로 역변환합니다.\n",
    "x_min = np.min(points[:, 0])\n",
    "y_min = np.min(points[:, 1])\n",
    "z_min = np.min(points[:, 2])\n",
    "\n",
    "x_range = np.max(points[:, 0]) - x_min\n",
    "y_range = np.max(points[:, 1]) - y_min\n",
    "z_range = np.max(points[:, 2]) - z_min\n",
    "\n",
    "original_x = x_min + points[:, 0] * x_range\n",
    "original_y = y_min + points[:, 1] * y_range\n",
    "original_z = z_min + points[:, 2] * z_range  # z 좌표의 역변환\n",
    "\n",
    "# 역변환된 좌표를 포인트 클라우드에 적용합니다.\n",
    "points[:, 0] = original_x\n",
    "points[:, 1] = original_y\n",
    "points[:, 2] = original_z\n",
    "\n",
    "# 포인트 클라우드를 업데이트합니다.\n",
    "loaded_cloud.points = o3d.utility.Vector3dVector(points)\n",
    "\n",
    "# 업데이트된 포인트 클라우드를 시각화합니다.\n",
    "o3d.visualization.draw_geometries([loaded_cloud],width=640, height=360)\n",
    "o3d.io.write_point_cloud(\"robot/bigtest.ply\", loaded_cloud)\n"
   ]
  }
 ],
 "metadata": {
  "kernelspec": {
   "display_name": ".venv",
   "language": "python",
   "name": "python3"
  },
  "language_info": {
   "codemirror_mode": {
    "name": "ipython",
    "version": 3
   },
   "file_extension": ".py",
   "mimetype": "text/x-python",
   "name": "python",
   "nbconvert_exporter": "python",
   "pygments_lexer": "ipython3",
   "version": "3.9.13"
  },
  "orig_nbformat": 4
 },
 "nbformat": 4,
 "nbformat_minor": 2
}
