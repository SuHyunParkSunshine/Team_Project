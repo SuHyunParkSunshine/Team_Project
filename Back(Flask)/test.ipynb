{
 "cells": [
  {
   "cell_type": "code",
   "execution_count": null,
   "metadata": {},
   "outputs": [],
   "source": [
    "# import numpy as np\n",
    "# from plyfile import PlyData  # plyfile 라이브러리를 사용하여 ply 파일 읽기\n",
    "\n",
    "# # .ply 파일 경로\n",
    "# ply_file_path = '파일경로.ply'\n",
    "\n",
    "# # .ply 파일 로드\n",
    "# ply_data = PlyData.read(ply_file_path)\n",
    "\n",
    "# # 포인트 클라우드 데이터 추출\n",
    "# points = ply_data['vertex']\n",
    "\n",
    "# # 포인트 클라우드에서 XYZ 좌표 추출\n",
    "# x = points['x']\n",
    "# y = points['y']\n",
    "# z = points['z']\n",
    "\n",
    "# # 포인트 클라우드의 점 개수\n",
    "# num_points = len(points)\n",
    "\n",
    "# # 결과 출력\n",
    "# print(f\"포인트 클라우드 파일: {ply_file_path}\")\n",
    "# print(f\"전체 점의 개수: {num_points}\")\n",
    "# print(f\"첫 번째 점의 좌표 (X, Y, Z): ({x[0]}, {y[0]}, {z[0]})\")"
   ]
  },
  {
   "cell_type": "code",
   "execution_count": null,
   "metadata": {},
   "outputs": [],
   "source": [
    "# import numpy as np\n",
    "# from plyfile import PlyData\n",
    "# import open3d as o3d  # Open3D 라이브러리 사용하여 시각화\n",
    "\n",
    "# # .ply 파일 경로\n",
    "# ply_file_path = 'C:/Team_Project/Back/image/qqq.ply'\n",
    "\n",
    "# # .ply 파일 로드\n",
    "# ply_data = PlyData.read(ply_file_path)\n",
    "\n",
    "# # 포인트 클라우드 데이터 추출\n",
    "# points = np.vstack((ply_data['vertex']['x'],\n",
    "#                     ply_data['vertex']['y'],\n",
    "#                     ply_data['vertex']['z'])).T\n",
    "\n",
    "# # Open3D 포인트 클라우드 객체로 변환\n",
    "# point_cloud = o3d.geometry.PointCloud()\n",
    "# point_cloud.points = o3d.utility.Vector3dVector(points)\n",
    "\n",
    "# # 시각화\n",
    "# o3d.visualization.draw_geometries([point_cloud])"
   ]
  }
 ],
 "metadata": {
  "kernelspec": {
   "display_name": ".venv",
   "language": "python",
   "name": "python3"
  },
  "language_info": {
   "codemirror_mode": {
    "name": "ipython",
    "version": 3
   },
   "file_extension": ".py",
   "mimetype": "text/x-python",
   "name": "python",
   "nbconvert_exporter": "python",
   "pygments_lexer": "ipython3",
   "version": "3.9.0"
  },
  "orig_nbformat": 4
 },
 "nbformat": 4,
 "nbformat_minor": 2
}
