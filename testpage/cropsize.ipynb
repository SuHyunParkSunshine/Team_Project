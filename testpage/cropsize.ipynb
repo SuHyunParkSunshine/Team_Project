{
 "cells": [
  {
   "cell_type": "code",
   "execution_count": 2,
   "metadata": {},
   "outputs": [],
   "source": [
    "from PIL import Image\n",
    "\n",
    "def resize_image(input_path, output_path, new_size):\n",
    "    image = Image.open(input_path)\n",
    "    image.thumbnail(new_size, Image.BILINEAR)  # BILINEAR 필터 사용\n",
    "    image.save(output_path)\n",
    "\n",
    "input_image_path = \"../testImageFolder/croptest_Color.png\"\n",
    "output_image_path = \"../testImageFolder/output_image.png\"\n",
    "new_resolution = (320, 240)\n",
    "\n",
    "resize_image(input_image_path, output_image_path, new_resolution)"
   ]
  },
  {
   "cell_type": "code",
   "execution_count": null,
   "metadata": {},
   "outputs": [],
   "source": [
    "from ultralytics import YOLO\n",
    "model = YOLO(\"../models/model_v3.pt\")\n",
    "\n"
   ]
  },
  {
   "cell_type": "code",
   "execution_count": 3,
   "metadata": {},
   "outputs": [
    {
     "name": "stdout",
     "output_type": "stream",
     "text": [
      "Jupyter environment detected. Enabling Open3D WebVisualizer.\n",
      "[Open3D INFO] WebRTC GUI backend enabled.\n",
      "[Open3D INFO] WebRTCWindowSystem: HTTP handshake server disabled.\n",
      "X축 최대 거리: 0.942138\n",
      "Y축 최대 거리: 0.858398\n"
     ]
    }
   ],
   "source": [
    "import open3d as o3d\n",
    "import numpy as np\n",
    "\n",
    "# 포인트 클라우드 데이터 불러오기\n",
    "point_cloud = o3d.io.read_point_cloud(\"../testImageFolder/croptest1.ply\")  # 포인트 클라우드 파일 경로 지정\n",
    "crop = o3d.io.read_point_cloud(\"../cropply/croppedtest1.ply\")\n",
    "# 포인트 클라우드 데이터를 NumPy 배열로 변환\n",
    "points = np.asarray(point_cloud.points)\n",
    "cropPoint = np.asarray(crop.points)\n",
    "\n",
    "# X축과 Y축의 최대 거리 계산\n",
    "x_max_distance = np.max(points[:, 0]) - np.min(points[:, 0])\n",
    "y_max_distance = np.max(points[:, 1]) - np.min(points[:, 1])\n",
    "\n",
    "x_max_distance1 = np.max(cropPoint[:, 0]) - np.min(cropPoint[:, 0])\n",
    "y_max_distance1 = np.max(cropPoint[:, 1]) - np.min(cropPoint[:, 1])\n",
    "\n",
    "print(\"X축 최대 거리:\", x_max_distance)\n",
    "print(\"Y축 최대 거리:\", y_max_distance)\n",
    "print(\"cX축 최대 거리:\", x_max_distance1)\n",
    "print(\"cY축 최대 거리:\", y_max_distance1)"
   ]
  }
 ],
 "metadata": {
  "kernelspec": {
   "display_name": ".venv",
   "language": "python",
   "name": "python3"
  },
  "language_info": {
   "codemirror_mode": {
    "name": "ipython",
    "version": 3
   },
   "file_extension": ".py",
   "mimetype": "text/x-python",
   "name": "python",
   "nbconvert_exporter": "python",
   "pygments_lexer": "ipython3",
   "version": "3.9.13"
  },
  "orig_nbformat": 4
 },
 "nbformat": 4,
 "nbformat_minor": 2
}
