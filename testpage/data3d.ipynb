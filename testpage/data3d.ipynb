{
 "cells": [
  {
   "cell_type": "code",
   "execution_count": 47,
   "metadata": {},
   "outputs": [],
   "source": [
    "import open3d as o3d\n",
    "import copy\n",
    "\n",
    "pcd = o3d.io.read_point_cloud(\"../testImage/1.ply\")\n",
    "o3d.visualization.draw_geometries([pcd])"
   ]
  },
  {
   "cell_type": "code",
   "execution_count": 18,
   "metadata": {},
   "outputs": [],
   "source": [
    "import numpy as np\n",
    "from PIL import Image\n",
    "import open3d as o3d\n",
    "\n",
    "# 3D 포인트 클라우드 로드\n",
    "pcd = o3d.io.read_point_cloud(\"../3dtest/3test.ply\")\n",
    "\n",
    "# 2D 이미지 로드\n",
    "image_path = \"../3dtest/combined_image.png\"\n",
    "image = Image.open(image_path)\n",
    "image = np.array(image)\n",
    "\n",
    "# 이미지 크기\n",
    "height, width, _ = image.shape\n",
    "\n",
    "# 3D 포인트 클라우드 생성\n",
    "point_cloud = o3d.geometry.PointCloud()\n",
    "\n",
    "# 2D 이미지의 픽셀을 3D 포인트로 변환하여 포인트 클라우드에 추가\n",
    "for y in range(height):\n",
    "    for x in range(width):\n",
    "        pixel_color = image[y, x]\n",
    "        # 픽셀의 색상 값을 이용하여 z 좌표 설정 (예: 빨간색 값에 비례하게)\n",
    "        z_coord = pixel_color[0] / 255.0\n",
    "        point_cloud.points.append([x, y, z_coord])\n",
    "\n",
    "# 3D 포인트 클라우드와 이미지로부터 생성된 포인트 클라우드를 같은 창에 함께 표시\n",
    "o3d.visualization.draw_geometries([pcd])\n",
    "o3d.visualization.draw_geometries([point_cloud])\n"
   ]
  },
  {
   "cell_type": "code",
   "execution_count": 53,
   "metadata": {},
   "outputs": [
    {
     "name": "stdout",
     "output_type": "stream",
     "text": [
      "PointCloud with 62686 points. PointCloud with 62686 points.\n"
     ]
    }
   ],
   "source": [
    "pcd = o3d.io.read_point_cloud(\"../testImage/1.ply\")\n",
    "pcd_s = copy.deepcopy(pcd).translate((2, 0, 0))\n",
    "pcd_s.scale(0.5, center=pcd_s.get_center())\n",
    "\n",
    "o3d.visualization.draw_geometries([pcd, pcd_s])"
   ]
  },
  {
   "cell_type": "code",
   "execution_count": 50,
   "metadata": {},
   "outputs": [
    {
     "name": "stdout",
     "output_type": "stream",
     "text": [
      "Testing IO for meshes ...\n",
      "TriangleMesh with 62686 points and 123728 triangles.\n"
     ]
    }
   ],
   "source": [
    "#mesh로 표현하기\n",
    "\n",
    "print(\"Testing IO for meshes ...\")\n",
    "mesh = o3d.io.read_triangle_mesh(\"../testImage/1.ply\")\n",
    "print(mesh)\n",
    "# o3d.io.write_triangle_mesh(\"copy_of_knot.ply\", mesh)\n",
    "o3d.visualization.draw_geometries([mesh])\n"
   ]
  }
 ],
 "metadata": {
  "kernelspec": {
   "display_name": ".venv",
   "language": "python",
   "name": "python3"
  },
  "language_info": {
   "codemirror_mode": {
    "name": "ipython",
    "version": 3
   },
   "file_extension": ".py",
   "mimetype": "text/x-python",
   "name": "python",
   "nbconvert_exporter": "python",
   "pygments_lexer": "ipython3",
   "version": "3.9.13"
  },
  "orig_nbformat": 4
 },
 "nbformat": 4,
 "nbformat_minor": 2
}
