{
 "cells": [
  {
   "cell_type": "code",
   "execution_count": 1,
   "metadata": {},
   "outputs": [
    {
     "name": "stdout",
     "output_type": "stream",
     "text": [
      " * Serving Flask app '__main__'\n",
      " * Debug mode: off\n"
     ]
    },
    {
     "name": "stderr",
     "output_type": "stream",
     "text": [
      "WARNING: This is a development server. Do not use it in a production deployment. Use a production WSGI server instead.\n",
      " * Running on http://127.0.0.1:5000\n",
      "Press CTRL+C to quit\n",
      "127.0.0.1 - - [25/Aug/2023 17:14:35] \"POST /login HTTP/1.1\" 200 -\n"
     ]
    }
   ],
   "source": [
    "from flask import Flask\n",
    "from flask_restful import Api\n",
    "from member import UserRegisterResource\n",
    "from member import UserLoginResource\n",
    "from flask_jwt_extended import JWTManager\n",
    "\n",
    "app = Flask(__name__) \n",
    "\n",
    "api = Api(app)\n",
    "jwt = JWTManager(app)\n",
    "app.config['SECRET_KEY'] = 'your-secret-key'\n",
    "\n",
    "\n",
    "# 경로와 api(리소스) 연결\n",
    "api.add_resource(UserRegisterResource, '/register') # 회원가입\n",
    "api.add_resource(UserLoginResource, '/login') # 로그인\n",
    "\n",
    "if __name__ == '__main__' :\n",
    "    app.run()"
   ]
  }
 ],
 "metadata": {
  "kernelspec": {
   "display_name": ".venv",
   "language": "python",
   "name": "python3"
  },
  "language_info": {
   "codemirror_mode": {
    "name": "ipython",
    "version": 3
   },
   "file_extension": ".py",
   "mimetype": "text/x-python",
   "name": "python",
   "nbconvert_exporter": "python",
   "pygments_lexer": "ipython3",
   "version": "3.9.0"
  },
  "orig_nbformat": 4
 },
 "nbformat": 4,
 "nbformat_minor": 2
}
