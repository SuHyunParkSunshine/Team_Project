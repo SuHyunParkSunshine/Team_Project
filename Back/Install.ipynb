{
 "cells": [
  {
   "cell_type": "code",
   "execution_count": 1,
   "metadata": {},
   "outputs": [
    {
     "name": "stdout",
     "output_type": "stream",
     "text": [
      "Requirement already satisfied: pandas in c:\\team_project\\.venv\\lib\\site-packages (2.0.3)\n",
      "Requirement already satisfied: python-dateutil>=2.8.2 in c:\\team_project\\.venv\\lib\\site-packages (from pandas) (2.8.2)\n",
      "Requirement already satisfied: pytz>=2020.1 in c:\\team_project\\.venv\\lib\\site-packages (from pandas) (2023.3)\n",
      "Requirement already satisfied: tzdata>=2022.1 in c:\\team_project\\.venv\\lib\\site-packages (from pandas) (2023.3)\n",
      "Requirement already satisfied: numpy>=1.21.0 in c:\\team_project\\.venv\\lib\\site-packages (from pandas) (1.25.2)\n",
      "Requirement already satisfied: six>=1.5 in c:\\team_project\\.venv\\lib\\site-packages (from python-dateutil>=2.8.2->pandas) (1.16.0)\n"
     ]
    }
   ],
   "source": [
    "!pip install pandas"
   ]
  },
  {
   "cell_type": "code",
   "execution_count": 1,
   "metadata": {},
   "outputs": [
    {
     "name": "stdout",
     "output_type": "stream",
     "text": [
      "Python 3.11.4\n"
     ]
    }
   ],
   "source": [
    "!python --version"
   ]
  },
  {
   "cell_type": "code",
   "execution_count": 2,
   "metadata": {},
   "outputs": [
    {
     "name": "stdout",
     "output_type": "stream",
     "text": [
      "Python 3.11.4\n",
      "Flask 2.3.2\n",
      "Werkzeug 2.3.7\n"
     ]
    }
   ],
   "source": [
    "!flask --version"
   ]
  },
  {
   "cell_type": "code",
   "execution_count": 4,
   "metadata": {},
   "outputs": [
    {
     "name": "stdout",
     "output_type": "stream",
     "text": [
      "Collecting mysql-connector-pythonNote: you may need to restart the kernel to use updated packages.\n",
      "\n",
      "  Obtaining dependency information for mysql-connector-python from https://files.pythonhosted.org/packages/92/56/73fb0cef5c38e9b777492a3a6f899ff0c3a253fb254445ad35bb636cfc0d/mysql_connector_python-8.1.0-cp39-cp39-win_amd64.whl.metadata\n",
      "  Downloading mysql_connector_python-8.1.0-cp39-cp39-win_amd64.whl.metadata (2.1 kB)\n",
      "Collecting protobuf<=4.21.12,>=4.21.1 (from mysql-connector-python)\n",
      "  Downloading protobuf-4.21.12-cp39-cp39-win_amd64.whl (527 kB)\n",
      "     ---------------------------------------- 0.0/527.0 kB ? eta -:--:--\n",
      "     ------------------ ------------------- 256.0/527.0 kB 5.2 MB/s eta 0:00:01\n",
      "     -------------------------------------- 527.0/527.0 kB 5.5 MB/s eta 0:00:00\n",
      "Downloading mysql_connector_python-8.1.0-cp39-cp39-win_amd64.whl (10.8 MB)\n",
      "   ---------------------------------------- 0.0/10.8 MB ? eta -:--:--\n",
      "   - -------------------------------------- 0.3/10.8 MB 6.3 MB/s eta 0:00:02\n",
      "   -- ------------------------------------- 0.6/10.8 MB 5.9 MB/s eta 0:00:02\n",
      "   --- ------------------------------------ 0.8/10.8 MB 5.9 MB/s eta 0:00:02\n",
      "   ---- ----------------------------------- 1.1/10.8 MB 5.8 MB/s eta 0:00:02\n",
      "   ----- ---------------------------------- 1.4/10.8 MB 5.9 MB/s eta 0:00:02\n",
      "   ------ --------------------------------- 1.7/10.8 MB 5.9 MB/s eta 0:00:02\n",
      "   ------- -------------------------------- 2.0/10.8 MB 5.9 MB/s eta 0:00:02\n",
      "   -------- ------------------------------- 2.3/10.8 MB 6.0 MB/s eta 0:00:02\n",
      "   --------- ------------------------------ 2.5/10.8 MB 6.0 MB/s eta 0:00:02\n",
      "   ---------- ----------------------------- 2.8/10.8 MB 6.0 MB/s eta 0:00:02\n",
      "   ----------- ---------------------------- 3.1/10.8 MB 6.1 MB/s eta 0:00:02\n",
      "   ------------ --------------------------- 3.4/10.8 MB 6.1 MB/s eta 0:00:02\n",
      "   ------------- -------------------------- 3.7/10.8 MB 6.1 MB/s eta 0:00:02\n",
      "   -------------- ------------------------- 4.0/10.8 MB 6.1 MB/s eta 0:00:02\n",
      "   --------------- ------------------------ 4.3/10.8 MB 6.1 MB/s eta 0:00:02\n",
      "   ---------------- ----------------------- 4.6/10.8 MB 6.1 MB/s eta 0:00:02\n",
      "   ----------------- ---------------------- 4.9/10.8 MB 6.1 MB/s eta 0:00:01\n",
      "   ------------------- -------------------- 5.1/10.8 MB 6.1 MB/s eta 0:00:01\n",
      "   ------------------- -------------------- 5.4/10.8 MB 6.1 MB/s eta 0:00:01\n",
      "   -------------------- ------------------- 5.7/10.8 MB 6.1 MB/s eta 0:00:01\n",
      "   ---------------------- ----------------- 6.0/10.8 MB 6.1 MB/s eta 0:00:01\n",
      "   ----------------------- ---------------- 6.3/10.8 MB 6.1 MB/s eta 0:00:01\n",
      "   ------------------------ --------------- 6.7/10.8 MB 6.2 MB/s eta 0:00:01\n",
      "   -------------------------- ------------- 7.0/10.8 MB 6.3 MB/s eta 0:00:01\n",
      "   --------------------------- ------------ 7.4/10.8 MB 6.3 MB/s eta 0:00:01\n",
      "   ---------------------------- ----------- 7.8/10.8 MB 6.4 MB/s eta 0:00:01\n",
      "   ------------------------------ --------- 8.2/10.8 MB 6.5 MB/s eta 0:00:01\n",
      "   ------------------------------- -------- 8.6/10.8 MB 6.5 MB/s eta 0:00:01\n",
      "   --------------------------------- ------ 8.9/10.8 MB 6.6 MB/s eta 0:00:01\n",
      "   ---------------------------------- ----- 9.3/10.8 MB 6.6 MB/s eta 0:00:01\n",
      "   ----------------------------------- ---- 9.6/10.8 MB 6.6 MB/s eta 0:00:01\n",
      "   ------------------------------------ --- 10.0/10.8 MB 6.7 MB/s eta 0:00:01\n",
      "   -------------------------------------- - 10.3/10.8 MB 6.7 MB/s eta 0:00:01\n",
      "   ---------------------------------------  10.7/10.8 MB 6.7 MB/s eta 0:00:01\n",
      "   ---------------------------------------  10.8/10.8 MB 6.7 MB/s eta 0:00:01\n",
      "   ---------------------------------------  10.8/10.8 MB 6.7 MB/s eta 0:00:01\n",
      "   ---------------------------------------- 10.8/10.8 MB 6.4 MB/s eta 0:00:00\n",
      "Installing collected packages: protobuf, mysql-connector-python\n",
      "Successfully installed mysql-connector-python-8.1.0 protobuf-4.21.12\n"
     ]
    }
   ],
   "source": [
    "%pip install mysql-connector-python"
   ]
  },
  {
   "cell_type": "code",
   "execution_count": 7,
   "metadata": {},
   "outputs": [
    {
     "name": "stdout",
     "output_type": "stream",
     "text": [
      "Collecting mysqlclient\n",
      "  Obtaining dependency information for mysqlclient from https://files.pythonhosted.org/packages/79/bb/5f9eec6eabe12240e1bb5001630b65fa4a1e43b49139f6248b0ba4afba4b/mysqlclient-2.2.0-cp39-cp39-win_amd64.whl.metadata\n",
      "  Downloading mysqlclient-2.2.0-cp39-cp39-win_amd64.whl.metadata (4.5 kB)\n",
      "Downloading mysqlclient-2.2.0-cp39-cp39-win_amd64.whl (200 kB)\n",
      "   ---------------------------------------- 0.0/200.1 kB ? eta -:--:--\n",
      "   ---------------------------------------- 200.1/200.1 kB 6.1 MB/s eta 0:00:00\n",
      "Installing collected packages: mysqlclient\n",
      "Successfully installed mysqlclient-2.2.0\n",
      "Note: you may need to restart the kernel to use updated packages.\n"
     ]
    }
   ],
   "source": [
    "%pip install mysqlclient"
   ]
  },
  {
   "cell_type": "code",
   "execution_count": 5,
   "metadata": {},
   "outputs": [
    {
     "name": "stdout",
     "output_type": "stream",
     "text": [
      "Collecting email-validator\n",
      "  Downloading email_validator-2.0.0.post2-py3-none-any.whl (31 kB)\n",
      "Collecting dnspython>=2.0.0 (from email-validator)\n",
      "  Obtaining dependency information for dnspython>=2.0.0 from https://files.pythonhosted.org/packages/f6/b4/0a9bee52c50f226a3cbfb54263d02bb421c7f2adc136520729c2c689c1e5/dnspython-2.4.2-py3-none-any.whl.metadata\n",
      "  Downloading dnspython-2.4.2-py3-none-any.whl.metadata (4.9 kB)\n",
      "Requirement already satisfied: idna>=2.0.0 in c:\\team_project\\.venv\\lib\\site-packages (from email-validator) (3.4)\n",
      "Downloading dnspython-2.4.2-py3-none-any.whl (300 kB)\n",
      "   ---------------------------------------- 0.0/300.4 kB ? eta -:--:--\n",
      "   --------------------------- ------------ 204.8/300.4 kB 6.3 MB/s eta 0:00:01\n",
      "   ---------------------------------------- 300.4/300.4 kB 4.7 MB/s eta 0:00:00\n",
      "Installing collected packages: dnspython, email-validator\n",
      "Successfully installed dnspython-2.4.2 email-validator-2.0.0.post2\n",
      "Note: you may need to restart the kernel to use updated packages.\n"
     ]
    }
   ],
   "source": [
    "%pip install email-validator"
   ]
  },
  {
   "cell_type": "code",
   "execution_count": 6,
   "metadata": {},
   "outputs": [
    {
     "name": "stdout",
     "output_type": "stream",
     "text": [
      "Requirement already satisfied: Flask in c:\\team_project\\.venv\\lib\\site-packages (2.2.5)\n",
      "Collecting Flask-RESTful\n",
      "  Obtaining dependency information for Flask-RESTful from https://files.pythonhosted.org/packages/d7/7b/f0b45f0df7d2978e5ae51804bb5939b7897b2ace24306009da0cc34d8d1f/Flask_RESTful-0.3.10-py2.py3-none-any.whl.metadata\n",
      "  Downloading Flask_RESTful-0.3.10-py2.py3-none-any.whl.metadata (1.0 kB)\n",
      "Requirement already satisfied: Flask-JWT-Extended in c:\\team_project\\.venv\\lib\\site-packages (4.5.2)\n",
      "Requirement already satisfied: Werkzeug>=2.2.2 in c:\\team_project\\.venv\\lib\\site-packages (from Flask) (2.2.3)\n",
      "Requirement already satisfied: Jinja2>=3.0 in c:\\team_project\\.venv\\lib\\site-packages (from Flask) (3.1.2)\n",
      "Requirement already satisfied: itsdangerous>=2.0 in c:\\team_project\\.venv\\lib\\site-packages (from Flask) (2.1.2)\n",
      "Requirement already satisfied: click>=8.0 in c:\\team_project\\.venv\\lib\\site-packages (from Flask) (8.1.7)\n",
      "Requirement already satisfied: importlib-metadata>=3.6.0 in c:\\team_project\\.venv\\lib\\site-packages (from Flask) (6.8.0)\n",
      "Requirement already satisfied: aniso8601>=0.82 in c:\\team_project\\.venv\\lib\\site-packages (from Flask-RESTful) (9.0.1)\n",
      "Requirement already satisfied: six>=1.3.0 in c:\\team_project\\.venv\\lib\\site-packages (from Flask-RESTful) (1.16.0)\n",
      "Requirement already satisfied: pytz in c:\\team_project\\.venv\\lib\\site-packages (from Flask-RESTful) (2023.3)\n",
      "Requirement already satisfied: PyJWT<3.0,>=2.0 in c:\\team_project\\.venv\\lib\\site-packages (from Flask-JWT-Extended) (2.8.0)\n",
      "Requirement already satisfied: colorama in c:\\team_project\\.venv\\lib\\site-packages (from click>=8.0->Flask) (0.4.6)\n",
      "Requirement already satisfied: zipp>=0.5 in c:\\team_project\\.venv\\lib\\site-packages (from importlib-metadata>=3.6.0->Flask) (3.16.2)\n",
      "Requirement already satisfied: MarkupSafe>=2.0 in c:\\team_project\\.venv\\lib\\site-packages (from Jinja2>=3.0->Flask) (2.1.3)\n",
      "Downloading Flask_RESTful-0.3.10-py2.py3-none-any.whl (26 kB)\n",
      "Installing collected packages: Flask-RESTful\n",
      "Successfully installed Flask-RESTful-0.3.10\n",
      "Note: you may need to restart the kernel to use updated packages.\n"
     ]
    }
   ],
   "source": [
    "%pip install Flask Flask-RESTful Flask-JWT-Extended"
   ]
  },
  {
   "cell_type": "code",
   "execution_count": 8,
   "metadata": {},
   "outputs": [
    {
     "name": "stdout",
     "output_type": "stream",
     "text": [
      "Collecting Flask-MySQLdb\n",
      "  Downloading Flask-MySQLdb-1.0.1.tar.gz (4.3 kB)\n",
      "  Installing build dependencies: started\n",
      "  Installing build dependencies: finished with status 'done'\n",
      "  Getting requirements to build wheel: started\n",
      "  Getting requirements to build wheel: finished with status 'done'\n",
      "  Preparing metadata (pyproject.toml): started\n",
      "  Preparing metadata (pyproject.toml): finished with status 'done'\n",
      "Requirement already satisfied: Flask>=0.12.4 in c:\\team_project\\.venv\\lib\\site-packages (from Flask-MySQLdb) (2.2.5)\n",
      "Requirement already satisfied: mysqlclient>=1.3.7 in c:\\team_project\\.venv\\lib\\site-packages (from Flask-MySQLdb) (2.2.0)\n",
      "Requirement already satisfied: Werkzeug>=2.2.2 in c:\\team_project\\.venv\\lib\\site-packages (from Flask>=0.12.4->Flask-MySQLdb) (2.2.3)\n",
      "Requirement already satisfied: Jinja2>=3.0 in c:\\team_project\\.venv\\lib\\site-packages (from Flask>=0.12.4->Flask-MySQLdb) (3.1.2)\n",
      "Requirement already satisfied: itsdangerous>=2.0 in c:\\team_project\\.venv\\lib\\site-packages (from Flask>=0.12.4->Flask-MySQLdb) (2.1.2)\n",
      "Requirement already satisfied: click>=8.0 in c:\\team_project\\.venv\\lib\\site-packages (from Flask>=0.12.4->Flask-MySQLdb) (8.1.7)\n",
      "Requirement already satisfied: importlib-metadata>=3.6.0 in c:\\team_project\\.venv\\lib\\site-packages (from Flask>=0.12.4->Flask-MySQLdb) (6.8.0)\n",
      "Requirement already satisfied: colorama in c:\\team_project\\.venv\\lib\\site-packages (from click>=8.0->Flask>=0.12.4->Flask-MySQLdb) (0.4.6)\n",
      "Requirement already satisfied: zipp>=0.5 in c:\\team_project\\.venv\\lib\\site-packages (from importlib-metadata>=3.6.0->Flask>=0.12.4->Flask-MySQLdb) (3.16.2)\n",
      "Requirement already satisfied: MarkupSafe>=2.0 in c:\\team_project\\.venv\\lib\\site-packages (from Jinja2>=3.0->Flask>=0.12.4->Flask-MySQLdb) (2.1.3)\n",
      "Building wheels for collected packages: Flask-MySQLdb\n",
      "  Building wheel for Flask-MySQLdb (pyproject.toml): started\n",
      "  Building wheel for Flask-MySQLdb (pyproject.toml): finished with status 'done'\n",
      "  Created wheel for Flask-MySQLdb: filename=Flask_MySQLdb-1.0.1-py3-none-any.whl size=4698 sha256=ef94d5f75bfa34596e4c629275fe4cc4a87b08907660a049de901d9bb696a488\n",
      "  Stored in directory: c:\\users\\user\\appdata\\local\\pip\\cache\\wheels\\48\\ba\\f7\\32a9b364c18e9e479d5dd05305109e7a72d85d8e29c02a10ea\n",
      "Successfully built Flask-MySQLdb\n",
      "Installing collected packages: Flask-MySQLdb\n",
      "Successfully installed Flask-MySQLdb-1.0.1\n",
      "Note: you may need to restart the kernel to use updated packages.\n"
     ]
    }
   ],
   "source": [
    "%pip install Flask-MySQLdb"
   ]
  },
  {
   "cell_type": "code",
   "execution_count": 1,
   "metadata": {},
   "outputs": [
    {
     "name": "stdout",
     "output_type": "stream",
     "text": [
      "Note: you may need to restart the kernel to use updated packages.\n"
     ]
    },
    {
     "name": "stderr",
     "output_type": "stream",
     "text": [
      "ERROR: Could not find a version that satisfies the requirement user (from versions: none)\n",
      "ERROR: No matching distribution found for user\n"
     ]
    }
   ],
   "source": [
    "%pip install user"
   ]
  }
 ],
 "metadata": {
  "kernelspec": {
   "display_name": ".venv",
   "language": "python",
   "name": "python3"
  },
  "language_info": {
   "codemirror_mode": {
    "name": "ipython",
    "version": 3
   },
   "file_extension": ".py",
   "mimetype": "text/x-python",
   "name": "python",
   "nbconvert_exporter": "python",
   "pygments_lexer": "ipython3",
   "version": "3.9.0"
  },
  "orig_nbformat": 4
 },
 "nbformat": 4,
 "nbformat_minor": 2
}
